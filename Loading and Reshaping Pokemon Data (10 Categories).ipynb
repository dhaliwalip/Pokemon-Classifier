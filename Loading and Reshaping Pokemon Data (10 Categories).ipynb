{
 "cells": [
  {
   "cell_type": "code",
   "execution_count": null,
   "metadata": {},
   "outputs": [],
   "source": []
  },
  {
   "cell_type": "markdown",
   "metadata": {},
   "source": [
    "Load the dataset into the program and show a sample of the Pokemon images being classified."
   ]
  },
  {
   "cell_type": "code",
   "execution_count": 4,
   "metadata": {},
   "outputs": [
    {
     "name": "stdout",
     "output_type": "stream",
     "text": [
      "Categories: 10\n"
     ]
    },
    {
     "data": {
      "image/png": "[encoded data removed]",
      "text/plain": [
       "<Figure size 432x288 with 1 Axes>"
      ]
     },
     "metadata": {
      "needs_background": "light"
     },
     "output_type": "display_data"
    }
   ],
   "source": [
    "import numpy as np\n",
    "import matplotlib.pyplot as plt\n",
    "import os\n",
    "import cv2\n",
    "import pprint\n",
    "import random\n",
    "\n",
    "# Append with /Example/ folder to only use select pokemon to train on\n",
    "# Example folder contains Abra, Aerodactyl, and Alakazam\n",
    "DATADIR = '/Users/ericnunn/Desktop/SeattleU/Courses/CPSC5305/Pokemon Classifier/dataset/Example-10'\n",
    "\n",
    "# all categories of Pokemon to train on\n",
    "CATEGORIES = [x for x in os.listdir(DATADIR) if os.path.isdir(os.path.join(DATADIR,x))]\n",
    "CATEGORIES.sort()\n",
    "print('Categories:', len(CATEGORIES))\n",
    "\n",
    "\n",
    "path = os.path.join(DATADIR, CATEGORIES[0])\n",
    "\n",
    "img = cv2.imread(os.path.join(path, os.listdir(path)[1]), cv2.IMREAD_GRAYSCALE) # rgb colors are read in different order\n",
    "plt.imshow(img, cmap='gray')\n",
    "plt.show()\n"
   ]
  },
  {
   "cell_type": "code",
   "execution_count": 5,
   "metadata": {},
   "outputs": [
    {
     "name": "stdout",
     "output_type": "stream",
     "text": [
      "(532, 600)\n"
     ]
    }
   ],
   "source": [
    "print(img.shape)"
   ]
  },
  {
   "cell_type": "code",
   "execution_count": 6,
   "metadata": {},
   "outputs": [
    {
     "data": {
      "image/png": "[encoded data removed]",
      "text/plain": [
       "<Figure size 432x288 with 1 Axes>"
      ]
     },
     "metadata": {
      "needs_background": "light"
     },
     "output_type": "display_data"
    }
   ],
   "source": [
    "IMG_SIZE = 50\n",
    "\n",
    "new_array = cv2.resize(img, (IMG_SIZE, IMG_SIZE))\n",
    "plt.imshow(new_array, cmap='gray')\n",
    "plt.show()"
   ]
  },
  {
   "cell_type": "code",
   "execution_count": 7,
   "metadata": {},
   "outputs": [],
   "source": [
    "training_data = []\n",
    "\n",
    "def create_training_data():\n",
    "    for category in CATEGORIES:\n",
    "        path = os.path.join(DATADIR, category)   # path to pokemon dir\n",
    "        class_num = CATEGORIES.index(category)\n",
    "        for img in os.listdir(path):\n",
    "            try:\n",
    "                img_array = cv2.imread(os.path.join(path, img), cv2.IMREAD_GRAYSCALE)\n",
    "                new_array = cv2.resize(img_array, (IMG_SIZE, IMG_SIZE))\n",
    "                training_data.append([new_array, class_num])\n",
    "            except:\n",
    "                pass\n",
    "\n",
    "create_training_data()"
   ]
  },
  {
   "cell_type": "code",
   "execution_count": 8,
   "metadata": {},
   "outputs": [
    {
     "name": "stdout",
     "output_type": "stream",
     "text": [
      "661\n"
     ]
    }
   ],
   "source": [
    "print(len(training_data))"
   ]
  },
  {
   "cell_type": "code",
   "execution_count": 12,
   "metadata": {},
   "outputs": [],
   "source": [
    "# shuffle dataset so the algorithm doesn't learn the Pokemon type based on order of appearance\n",
    "random.shuffle(training_data)"
   ]
  },
  {
   "cell_type": "code",
   "execution_count": 13,
   "metadata": {},
   "outputs": [
    {
     "name": "stdout",
     "output_type": "stream",
     "text": [
      "2\n",
      "2\n",
      "3\n",
      "6\n",
      "3\n",
      "4\n",
      "7\n",
      "3\n",
      "8\n",
      "0\n"
     ]
    }
   ],
   "source": [
    "# print label for first 10 pictures\n",
    "for sample in training_data[:10]:\n",
    "    print(sample[1])"
   ]
  },
  {
   "cell_type": "code",
   "execution_count": 14,
   "metadata": {},
   "outputs": [],
   "source": [
    "X = []\n",
    "y = []"
   ]
  },
  {
   "cell_type": "code",
   "execution_count": 15,
   "metadata": {},
   "outputs": [],
   "source": [
    "for features, label in training_data:\n",
    "    X.append(features)\n",
    "    y.append(label)\n",
    "\n",
    "X = np.array(X).reshape(-1, IMG_SIZE, IMG_SIZE, 1)\n",
    "y = np.array(y)"
   ]
  },
  {
   "cell_type": "code",
   "execution_count": 16,
   "metadata": {},
   "outputs": [],
   "source": [
    "import pickle\n",
    "\n",
    "pickle_out = open('pickle_data/X_10_pokemon.pickle', 'wb')\n",
    "pickle.dump(X, pickle_out)\n",
    "pickle_out.close()\n",
    "\n",
    "pickle_out = open('pickle_data/y_10_pokemon.pickle', 'wb')\n",
    "pickle.dump(y, pickle_out)\n",
    "pickle_out.close()"
   ]
  },
  {
   "cell_type": "code",
   "execution_count": 17,
   "metadata": {},
   "outputs": [],
   "source": [
    "pickle_in = open('X_10_pokemon.pickle', 'rb')\n",
    "X = pickle.load(pickle_in)"
   ]
  },
  {
   "cell_type": "code",
   "execution_count": 18,
   "metadata": {},
   "outputs": [
    {
     "name": "stdout",
     "output_type": "stream",
     "text": [
      "[2 2 3 6 3 4 7 3 8 0 4 9 0 7 8 1 2 3 1 6 5 3 5 8 6 1 0 9 9 0 7 5 1 3 9 3 1\n",
      " 9 0 2 7 0 6 1 1 5 3 4 1 7 0 3 1 3 3 2 8 1 9 3 0 7 5 4 4 2 6 3 7 3 9 2 9 4\n",
      " 3 4 2 4 9 4 0 9 8 3 7 0 6 4 6 3 7 3 3 1 7 1 7 1 9 3 4 1 2 5 9 0 7 7 2 6 9\n",
      " 9 3 5 3 9 0 8 1 7 4 1 5 4 3 3 5 3 3 6 9 7 0 1 5 5 3 3 8 3 3 4 0 3 1 4 5 7\n",
      " 9 9 1 5 6 3 3 8 0 8 3 8 6 1 4 7 7 3 6 9 9 6 5 0 8 1 6 1 0 8 3 1 8 3 7 8 4\n",
      " 3 2 6 6 4 3 2 6 9 4 7 6 8 5 2 9 2 8 7 7 4 8 7 6 3 9 7 3 6 7 3 5 3 4 8 2 1\n",
      " 6 0 3 1 7 2 6 2 2 4 2 7 1 4 6 7 2 7 1 4 9 5 4 7 1 8 3 5 2 5 3 8 2 1 1 0 1\n",
      " 6 9 3 3 7 6 6 3 6 6 9 9 7 3 2 3 4 3 0 2 0 5 8 5 2 9 4 4 3 1 6 4 4 3 4 0 3\n",
      " 7 3 2 1 4 3 8 0 9 9 3 9 9 3 1 0 3 9 9 8 5 5 2 9 1 6 9 7 6 3 2 3 1 2 9 0 4\n",
      " 7 9 7 4 6 2 1 3 8 5 0 3 6 0 2 2 3 0 1 5 8 0 0 3 3 1 7 7 2 5 1 0 3 0 3 2 7\n",
      " 8 6 4 2 4 3 2 3 3 1 6 5 0 1 8 3 3 1 9 7 0 3 7 8 3 6 3 5 8 4 6 9 8 2 4 4 8\n",
      " 2 6 7 0 6 6 3 2 9 8 7 8 6 1 3 1 9 2 0 3 3 4 4 8 6 2 2 6 1 8 3 6 5 3 4 5 3\n",
      " 4 4 0 4 9 8 9 9 0 3 3 2 3 7 1 2 0 3 0 3 8 3 8 1 3 2 4 3 2 5 2 7 0 8 0 2 9\n",
      " 9 9 5 9 8 3 7 5 7 9 7 6 3 6 3 2 9 3 3 5 2 4 9 9 2 0 3 5 7 3 1 0 8 5 2 3 5\n",
      " 1 4 8 0 0 3 3 4 1 3 7 2 5 9 8 3 0 6 9 5 6 4 9 5 2 4 6 6 9 1 7 9 5 1 1 0 3\n",
      " 1 8 1 4 9 6 1 2 5 3 3 3 1 3 3 6 3 1 8 2 3 5 4 0 3 3 6 7 1 0 8 1 2 6 2 2 3\n",
      " 5 2 1 8 9 9 5 9 5 1 3 9 4 8 3 8 8 4 8 0 0 6 2 5 6 3 0 2 2 4 7 8 8 5 1 8 4\n",
      " 6 9 8 3 4 8 3 7 7 1 1 8 0 1 1 9 5 0 0 6 3 4 8 9 6 5 3 2 0 7 9 6]\n"
     ]
    }
   ],
   "source": [
    "print(y)"
   ]
  },
  {
   "cell_type": "code",
   "execution_count": null,
   "metadata": {},
   "outputs": [],
   "source": []
  },
  {
   "cell_type": "code",
   "execution_count": null,
   "metadata": {},
   "outputs": [],
   "source": []
  }
 ],
 "metadata": {
  "kernelspec": {
   "display_name": "Python 3",
   "language": "python",
   "name": "python3"
  },
  "language_info": {
   "codemirror_mode": {
    "name": "ipython",
    "version": 3
   },
   "file_extension": ".py",
   "mimetype": "text/x-python",
   "name": "python",
   "nbconvert_exporter": "python",
   "pygments_lexer": "ipython3",
   "version": "3.7.1"
  }
 },
 "nbformat": 4,
 "nbformat_minor": 2
}
