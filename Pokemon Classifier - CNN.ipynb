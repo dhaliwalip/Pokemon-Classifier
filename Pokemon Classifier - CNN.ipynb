{
 "cells": [
  {
   "cell_type": "code",
   "execution_count": 1,
   "metadata": {},
   "outputs": [
    {
     "name": "stdout",
     "output_type": "stream",
     "text": [
      "X.shape = (661, 50, 50, 1)\n",
      "y.shape = (661,)\n"
     ]
    }
   ],
   "source": [
    "import tensorflow as tf\n",
    "from tensorflow.keras.models import Sequential\n",
    "from tensorflow.keras.layers import Dense, Dropout, Activation, Flatten, Conv2D, MaxPooling2D\n",
    "import pickle\n",
    "import numpy as np\n",
    "import time\n",
    "\n",
    "NAME = 'Pokemon-classifier-cnn-64x2-{}'.format(int(time.time()))\n",
    "\n",
    "# load dataset and labels\n",
    "X = pickle.load(open('X_10_pokemon.pickle','rb'))\n",
    "y = pickle.load(open('y_10_pokemon.pickle','rb'))\n",
    "\n",
    "#print(X)\n",
    "print('X.shape =', X.shape)\n",
    "print('y.shape =', y.shape)\n",
    "\n",
    "# normalize pixel data\n",
    "X = X/255.0\n",
    "\n"
   ]
  },
  {
   "cell_type": "code",
   "execution_count": 3,
   "metadata": {
    "scrolled": true
   },
   "outputs": [
    {
     "name": "stdout",
     "output_type": "stream",
     "text": [
      "Train on 594 samples, validate on 67 samples\n",
      "Epoch 1/20\n",
      "594/594 [==============================] - 2s 3ms/sample - loss: 2.6451 - acc: 0.1212 - val_loss: 2.2782 - val_acc: 0.1045\n",
      "Epoch 2/20\n",
      "594/594 [==============================] - 2s 3ms/sample - loss: 2.2925 - acc: 0.1380 - val_loss: 2.2845 - val_acc: 0.1194\n",
      "Epoch 3/20\n",
      "594/594 [==============================] - 2s 3ms/sample - loss: 2.1303 - acc: 0.2205 - val_loss: 2.0255 - val_acc: 0.3134\n",
      "Epoch 4/20\n",
      "594/594 [==============================] - 2s 3ms/sample - loss: 1.9420 - acc: 0.3283 - val_loss: 2.0127 - val_acc: 0.3433\n",
      "Epoch 5/20\n",
      "594/594 [==============================] - 2s 3ms/sample - loss: 1.7005 - acc: 0.4074 - val_loss: 1.7689 - val_acc: 0.4030\n",
      "Epoch 6/20\n",
      "594/594 [==============================] - 2s 3ms/sample - loss: 1.4458 - acc: 0.5438 - val_loss: 1.8709 - val_acc: 0.4478\n",
      "Epoch 7/20\n",
      "594/594 [==============================] - 2s 3ms/sample - loss: 1.2663 - acc: 0.5875 - val_loss: 1.8211 - val_acc: 0.4627\n",
      "Epoch 8/20\n",
      "594/594 [==============================] - 2s 3ms/sample - loss: 1.0169 - acc: 0.6987 - val_loss: 2.0324 - val_acc: 0.4627\n",
      "Epoch 9/20\n",
      "594/594 [==============================] - 2s 3ms/sample - loss: 0.8299 - acc: 0.7508 - val_loss: 2.0416 - val_acc: 0.4328\n",
      "Epoch 10/20\n",
      "594/594 [==============================] - 2s 3ms/sample - loss: 0.6780 - acc: 0.8182 - val_loss: 2.2330 - val_acc: 0.4478\n",
      "Epoch 11/20\n",
      "594/594 [==============================] - 2s 3ms/sample - loss: 0.5660 - acc: 0.8502 - val_loss: 2.3861 - val_acc: 0.4925\n",
      "Epoch 12/20\n",
      "594/594 [==============================] - 2s 3ms/sample - loss: 0.4006 - acc: 0.9091 - val_loss: 2.3176 - val_acc: 0.5672\n",
      "Epoch 13/20\n",
      "594/594 [==============================] - 2s 3ms/sample - loss: 0.3008 - acc: 0.9327 - val_loss: 2.3383 - val_acc: 0.5373\n",
      "Epoch 14/20\n",
      "594/594 [==============================] - 2s 3ms/sample - loss: 0.1939 - acc: 0.9714 - val_loss: 2.3560 - val_acc: 0.5373\n",
      "Epoch 15/20\n",
      "594/594 [==============================] - 2s 3ms/sample - loss: 0.1641 - acc: 0.9714 - val_loss: 2.4853 - val_acc: 0.5522\n",
      "Epoch 16/20\n",
      "594/594 [==============================] - 2s 3ms/sample - loss: 0.1172 - acc: 0.9848 - val_loss: 2.5340 - val_acc: 0.5522\n",
      "Epoch 17/20\n",
      "594/594 [==============================] - 2s 3ms/sample - loss: 0.1066 - acc: 0.9916 - val_loss: 2.5190 - val_acc: 0.5970\n",
      "Epoch 18/20\n",
      "594/594 [==============================] - 2s 3ms/sample - loss: 0.0707 - acc: 0.9933 - val_loss: 2.7661 - val_acc: 0.5672\n",
      "Epoch 19/20\n",
      "594/594 [==============================] - 2s 3ms/sample - loss: 0.0563 - acc: 0.9949 - val_loss: 2.6696 - val_acc: 0.5970\n",
      "Epoch 20/20\n",
      "594/594 [==============================] - 2s 3ms/sample - loss: 0.0569 - acc: 0.9933 - val_loss: 2.9538 - val_acc: 0.5821\n"
     ]
    },
    {
     "data": {
      "text/plain": [
       "<tensorflow.python.keras.callbacks.History at 0xb2ac95978>"
      ]
     },
     "execution_count": 3,
     "metadata": {},
     "output_type": "execute_result"
    }
   ],
   "source": [
    "# define model\n",
    "model = Sequential()\n",
    "\n",
    "# 1st convolution\n",
    "model.add(Conv2D(64, (3,3), input_shape=X.shape[1:]))\n",
    "model.add(Activation('relu'))\n",
    "model.add(MaxPooling2D(pool_size=(2,2)))\n",
    "\n",
    "# 2nd convolution\n",
    "model.add(Conv2D(64, (3,3)))\n",
    "model.add(Activation('relu'))\n",
    "model.add(MaxPooling2D(pool_size=(2,2)))\n",
    "\n",
    "# flatten model before fully-connected layers\n",
    "model.add(Flatten())\n",
    "\n",
    "# fully-connected layer\n",
    "model.add(Dense(151))\n",
    "model.add(Activation('softmax'))\n",
    "\n",
    "model.compile(loss='sparse_categorical_crossentropy',\n",
    "              optimizer='adam',\n",
    "              metrics=['accuracy'])\n",
    "\n",
    "model.fit(X, y, batch_size=16, epochs=20, validation_split=0.1)"
   ]
  },
  {
   "cell_type": "code",
   "execution_count": null,
   "metadata": {},
   "outputs": [],
   "source": []
  },
  {
   "cell_type": "code",
   "execution_count": null,
   "metadata": {},
   "outputs": [],
   "source": []
  },
  {
   "cell_type": "code",
   "execution_count": null,
   "metadata": {},
   "outputs": [],
   "source": []
  }
 ],
 "metadata": {
  "kernelspec": {
   "display_name": "Python 3",
   "language": "python",
   "name": "python3"
  },
  "language_info": {
   "codemirror_mode": {
    "name": "ipython",
    "version": 3
   },
   "file_extension": ".py",
   "mimetype": "text/x-python",
   "name": "python",
   "nbconvert_exporter": "python",
   "pygments_lexer": "ipython3",
   "version": "3.7.1"
  }
 },
 "nbformat": 4,
 "nbformat_minor": 2
}
