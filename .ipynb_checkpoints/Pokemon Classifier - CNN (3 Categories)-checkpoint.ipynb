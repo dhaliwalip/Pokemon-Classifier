{
 "cells": [
  {
   "cell_type": "code",
   "execution_count": 15,
   "metadata": {},
   "outputs": [
    {
     "name": "stdout",
     "output_type": "stream",
     "text": [
      "X.shape = (661, 50, 50, 1)\n",
      "y.shape = (661,)\n"
     ]
    }
   ],
   "source": [
    "import tensorflow as tf\n",
    "from tensorflow.keras.models import Sequential\n",
    "from tensorflow.keras.layers import Dense, Dropout, Activation, Flatten, Conv2D, MaxPooling2D\n",
    "from tensorflow.keras.callbacks import TensorBoard\n",
    "import pickle\n",
    "import numpy as np\n",
    "import time\n",
    "\n",
    "# load dataset and labels\n",
    "X = pickle.load(open('X_10_pokemon.pickle','rb'))\n",
    "y = pickle.load(open('y_10_pokemon.pickle','rb'))\n",
    "\n",
    "#print(X)\n",
    "print('X.shape =', X.shape)\n",
    "print('y.shape =', y.shape)\n",
    "\n",
    "# normalize pixel data\n",
    "X = X/255.0"
   ]
  },
  {
   "cell_type": "code",
   "execution_count": 16,
   "metadata": {},
   "outputs": [],
   "source": [
    "# define hyperparameters\n",
    "conv_layer = 2\n",
    "layer_size = 64\n",
    "dense_layer = 0"
   ]
  },
  {
   "cell_type": "code",
   "execution_count": 18,
   "metadata": {
    "scrolled": true
   },
   "outputs": [
    {
     "name": "stdout",
     "output_type": "stream",
     "text": [
      "Train on 528 samples, validate on 133 samples\n",
      "Epoch 1/20\n",
      "528/528 [==============================] - 2s 3ms/sample - loss: 2.7319 - acc: 0.1288 - val_loss: 2.3160 - val_acc: 0.2105\n",
      "Epoch 2/20\n",
      "528/528 [==============================] - 1s 3ms/sample - loss: 2.2353 - acc: 0.2178 - val_loss: 2.1764 - val_acc: 0.2256\n",
      "Epoch 3/20\n",
      "528/528 [==============================] - 1s 3ms/sample - loss: 2.0540 - acc: 0.2936 - val_loss: 1.9996 - val_acc: 0.2932\n",
      "Epoch 4/20\n",
      "528/528 [==============================] - 2s 3ms/sample - loss: 1.7986 - acc: 0.3807 - val_loss: 1.9043 - val_acc: 0.3985\n",
      "Epoch 5/20\n",
      "528/528 [==============================] - 2s 3ms/sample - loss: 1.5533 - acc: 0.5227 - val_loss: 1.7955 - val_acc: 0.4361\n",
      "Epoch 6/20\n",
      "528/528 [==============================] - 1s 3ms/sample - loss: 1.2762 - acc: 0.5928 - val_loss: 1.7656 - val_acc: 0.4436\n",
      "Epoch 7/20\n",
      "528/528 [==============================] - 2s 3ms/sample - loss: 1.1016 - acc: 0.6591 - val_loss: 1.8141 - val_acc: 0.4286\n",
      "Epoch 8/20\n",
      "528/528 [==============================] - 1s 3ms/sample - loss: 0.8358 - acc: 0.7689 - val_loss: 1.9437 - val_acc: 0.5113\n",
      "Epoch 9/20\n",
      "528/528 [==============================] - 2s 3ms/sample - loss: 0.7004 - acc: 0.7992 - val_loss: 1.9795 - val_acc: 0.4511\n",
      "Epoch 10/20\n",
      "528/528 [==============================] - 1s 3ms/sample - loss: 0.4809 - acc: 0.8769 - val_loss: 2.1256 - val_acc: 0.4962\n",
      "Epoch 11/20\n",
      "528/528 [==============================] - 1s 3ms/sample - loss: 0.3818 - acc: 0.9129 - val_loss: 2.0525 - val_acc: 0.5489\n",
      "Epoch 12/20\n",
      "528/528 [==============================] - 2s 3ms/sample - loss: 0.2608 - acc: 0.9489 - val_loss: 2.2640 - val_acc: 0.4812\n",
      "Epoch 13/20\n",
      "528/528 [==============================] - 2s 3ms/sample - loss: 0.1979 - acc: 0.9735 - val_loss: 2.1390 - val_acc: 0.5188\n",
      "Epoch 14/20\n",
      "528/528 [==============================] - 2s 3ms/sample - loss: 0.1729 - acc: 0.9792 - val_loss: 2.2862 - val_acc: 0.5113\n",
      "Epoch 15/20\n",
      "528/528 [==============================] - 1s 3ms/sample - loss: 0.0935 - acc: 0.9848 - val_loss: 2.2286 - val_acc: 0.5414\n",
      "Epoch 16/20\n",
      "528/528 [==============================] - 2s 3ms/sample - loss: 0.0792 - acc: 0.9962 - val_loss: 2.3710 - val_acc: 0.5639\n",
      "Epoch 17/20\n",
      "528/528 [==============================] - 2s 3ms/sample - loss: 0.0698 - acc: 0.9924 - val_loss: 2.5414 - val_acc: 0.5414\n",
      "Epoch 18/20\n",
      "528/528 [==============================] - 2s 3ms/sample - loss: 0.0593 - acc: 0.9962 - val_loss: 2.5558 - val_acc: 0.5414\n",
      "Epoch 19/20\n",
      "528/528 [==============================] - 2s 3ms/sample - loss: 0.0440 - acc: 0.9962 - val_loss: 2.5034 - val_acc: 0.5414\n",
      "Epoch 20/20\n",
      "528/528 [==============================] - 1s 3ms/sample - loss: 0.0400 - acc: 0.9981 - val_loss: 2.5914 - val_acc: 0.5489\n"
     ]
    },
    {
     "data": {
      "text/plain": [
       "<tensorflow.python.keras.callbacks.History at 0xb35451470>"
      ]
     },
     "execution_count": 18,
     "metadata": {},
     "output_type": "execute_result"
    }
   ],
   "source": [
    "# name of model to keep track of changing model architectures\n",
    "NAME = '{}-conv-{}-nodes-{}-dense-{}'.format(conv_layer, layer_size, dense_layer, int(time.time()))\n",
    "# create a new log of the model to analyze results\n",
    "tensorboard = TensorBoard(log_dir='logs/{}'.format(NAME))\n",
    "\n",
    "# define model\n",
    "model = Sequential()\n",
    "\n",
    "# 1st convolution\n",
    "model.add(Conv2D(layer_size, (3,3), input_shape=X.shape[1:]))\n",
    "model.add(Activation('relu'))\n",
    "model.add(MaxPooling2D(pool_size=(2,2)))\n",
    "\n",
    "# add additional conv layers\n",
    "for _ in range(conv_layer-1):\n",
    "    # convolution\n",
    "    model.add(Conv2D(layer_size, (3,3)))\n",
    "    model.add(Activation('relu'))\n",
    "    # Max-Pool to reduce tensor size while retaining distict features\n",
    "    model.add(MaxPooling2D(pool_size=(2,2)))\n",
    "\n",
    "# flatten model for fully connected layers\n",
    "model.add(Flatten())\n",
    "\n",
    "# add dense layers\n",
    "for _ in range(dense_layer):\n",
    "    # fully-connected\n",
    "    model.add(Dense(layer_size))\n",
    "    model.add(Activation('relu'))\n",
    "\n",
    "# final fully-connected layer (151 matches number of Pokemon categories)\n",
    "model.add(Dense(151))\n",
    "model.add(Activation('softmax'))\n",
    "\n",
    "model.compile(loss='sparse_categorical_crossentropy',\n",
    "              optimizer='adam',\n",
    "              metrics=['accuracy'])\n",
    "\n",
    "model.fit(X, y, batch_size=16, epochs=20, validation_split=0.2, callbacks=[tensorboard])\n"
   ]
  },
  {
   "cell_type": "code",
   "execution_count": 25,
   "metadata": {},
   "outputs": [
    {
     "name": "stdout",
     "output_type": "stream",
     "text": [
      "acc: 90.77%\n"
     ]
    }
   ],
   "source": [
    "# evaluate the model\n",
    "scores = model.evaluate(X, y, verbose=0)\n",
    "print(\"%s: %.2f%%\" % (model.metrics_names[1], scores[1]*100))"
   ]
  },
  {
   "cell_type": "code",
   "execution_count": 28,
   "metadata": {},
   "outputs": [],
   "source": [
    "# save the model\n",
    "model.save(NAME)"
   ]
  },
  {
   "cell_type": "code",
   "execution_count": null,
   "metadata": {},
   "outputs": [],
   "source": []
  }
 ],
 "metadata": {
  "kernelspec": {
   "display_name": "Python 3",
   "language": "python",
   "name": "python3"
  },
  "language_info": {
   "codemirror_mode": {
    "name": "ipython",
    "version": 3
   },
   "file_extension": ".py",
   "mimetype": "text/x-python",
   "name": "python",
   "nbconvert_exporter": "python",
   "pygments_lexer": "ipython3",
   "version": "3.7.1"
  }
 },
 "nbformat": 4,
 "nbformat_minor": 2
}
