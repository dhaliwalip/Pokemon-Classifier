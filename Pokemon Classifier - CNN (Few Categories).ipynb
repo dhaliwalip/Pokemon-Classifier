{
 "cells": [
  {
   "cell_type": "code",
   "execution_count": 13,
   "metadata": {},
   "outputs": [
    {
     "name": "stdout",
     "output_type": "stream",
     "text": [
      "X.shape = (10665, 50, 50, 1)\n",
      "y.shape = (10665,)\n"
     ]
    }
   ],
   "source": [
    "import tensorflow as tf\n",
    "from tensorflow.keras.models import Sequential\n",
    "from tensorflow.keras.layers import Dense, Dropout, Activation, Flatten, Conv2D, MaxPooling2D\n",
    "import pickle\n",
    "import numpy as np\n",
    "\n",
    "# load dataset and labels\n",
    "X = pickle.load(open('X.pickle','rb'))\n",
    "y = pickle.load(open('y.pickle','rb'))\n",
    "\n",
    "#print(X)\n",
    "print('X.shape =', X.shape)\n",
    "print('y.shape =', y.shape)\n",
    "\n",
    "# normalize pixel data\n",
    "X = X/255.0\n",
    "\n"
   ]
  },
  {
   "cell_type": "code",
   "execution_count": 14,
   "metadata": {
    "scrolled": true
   },
   "outputs": [
    {
     "name": "stdout",
     "output_type": "stream",
     "text": [
      "Train on 9598 samples, validate on 1067 samples\n",
      "Epoch 1/20\n",
      "9598/9598 [==============================] - 26s 3ms/sample - loss: 4.8745 - acc: 0.0416 - val_loss: 4.8019 - val_acc: 0.0637\n",
      "Epoch 2/20\n",
      "9598/9598 [==============================] - 25s 3ms/sample - loss: 4.3398 - acc: 0.1247 - val_loss: 4.3042 - val_acc: 0.1528\n",
      "Epoch 3/20\n",
      "9598/9598 [==============================] - 26s 3ms/sample - loss: 3.4997 - acc: 0.2546 - val_loss: 4.2085 - val_acc: 0.1743\n",
      "Epoch 4/20\n",
      "9598/9598 [==============================] - 26s 3ms/sample - loss: 2.6674 - acc: 0.4112 - val_loss: 4.4395 - val_acc: 0.2156\n",
      "Epoch 5/20\n",
      "9598/9598 [==============================] - 26s 3ms/sample - loss: 1.9179 - acc: 0.5624 - val_loss: 4.9184 - val_acc: 0.2118\n",
      "Epoch 6/20\n",
      "9598/9598 [==============================] - 26s 3ms/sample - loss: 1.3234 - acc: 0.6944 - val_loss: 5.6580 - val_acc: 0.2081\n",
      "Epoch 7/20\n",
      "9598/9598 [==============================] - 26s 3ms/sample - loss: 0.8966 - acc: 0.8000 - val_loss: 6.1711 - val_acc: 0.2090\n",
      "Epoch 8/20\n",
      "9598/9598 [==============================] - 26s 3ms/sample - loss: 0.6318 - acc: 0.8698 - val_loss: 6.8718 - val_acc: 0.2118\n",
      "Epoch 9/20\n",
      "9598/9598 [==============================] - 25s 3ms/sample - loss: 0.4645 - acc: 0.9096 - val_loss: 7.1462 - val_acc: 0.2090\n",
      "Epoch 10/20\n",
      "9598/9598 [==============================] - 25s 3ms/sample - loss: 0.3762 - acc: 0.9369 - val_loss: 7.5015 - val_acc: 0.2146\n",
      "Epoch 11/20\n",
      "9598/9598 [==============================] - 25s 3ms/sample - loss: 0.3483 - acc: 0.9453 - val_loss: 7.8168 - val_acc: 0.2165\n",
      "Epoch 12/20\n",
      "9598/9598 [==============================] - 26s 3ms/sample - loss: 0.3004 - acc: 0.9561 - val_loss: 7.7688 - val_acc: 0.2156\n",
      "Epoch 13/20\n",
      "9598/9598 [==============================] - 26s 3ms/sample - loss: 0.2791 - acc: 0.9598 - val_loss: 7.8300 - val_acc: 0.2137\n",
      "Epoch 14/20\n",
      "9598/9598 [==============================] - 26s 3ms/sample - loss: 0.2697 - acc: 0.9580 - val_loss: 7.9860 - val_acc: 0.2165\n",
      "Epoch 15/20\n",
      "9598/9598 [==============================] - 26s 3ms/sample - loss: 0.2647 - acc: 0.9636 - val_loss: 8.1281 - val_acc: 0.2052\n",
      "Epoch 16/20\n",
      "9598/9598 [==============================] - 27s 3ms/sample - loss: 0.2851 - acc: 0.9563 - val_loss: 8.1841 - val_acc: 0.2043\n",
      "Epoch 17/20\n",
      "9598/9598 [==============================] - 26s 3ms/sample - loss: 0.2486 - acc: 0.9604 - val_loss: 8.2428 - val_acc: 0.2081\n",
      "Epoch 18/20\n",
      "9598/9598 [==============================] - 26s 3ms/sample - loss: 0.2187 - acc: 0.9671 - val_loss: 8.2187 - val_acc: 0.2212\n",
      "Epoch 19/20\n",
      "9598/9598 [==============================] - 26s 3ms/sample - loss: 0.2216 - acc: 0.9686 - val_loss: 8.2271 - val_acc: 0.2137\n",
      "Epoch 20/20\n",
      "9598/9598 [==============================] - 26s 3ms/sample - loss: 0.2168 - acc: 0.9675 - val_loss: 8.3991 - val_acc: 0.2071\n"
     ]
    },
    {
     "data": {
      "text/plain": [
       "<tensorflow.python.keras.callbacks.History at 0xb37dc76a0>"
      ]
     },
     "execution_count": 14,
     "metadata": {},
     "output_type": "execute_result"
    }
   ],
   "source": [
    "# define model\n",
    "model = Sequential()\n",
    "\n",
    "# 1st convolution\n",
    "model.add(Conv2D(64, (3,3), input_shape=X.shape[1:]))\n",
    "model.add(Activation('relu'))\n",
    "model.add(MaxPooling2D(pool_size=(2,2)))\n",
    "\n",
    "# 2nd convolution\n",
    "model.add(Conv2D(64, (3,3)))\n",
    "model.add(Activation('relu'))\n",
    "model.add(MaxPooling2D(pool_size=(2,2)))\n",
    "\n",
    "# 1st fully-connected layer\n",
    "model.add(Flatten())\n",
    "model.add(Dense(64))\n",
    "\n",
    "# 2nd fully-connected layer\n",
    "model.add(Dense(151))\n",
    "model.add(Activation('softmax'))\n",
    "\n",
    "model.compile(loss='sparse_categorical_crossentropy',\n",
    "              optimizer='adam',\n",
    "              metrics=['accuracy'])\n",
    "\n",
    "model.fit(X, y, batch_size=16, epochs=20, validation_split=0.1)"
   ]
  },
  {
   "cell_type": "code",
   "execution_count": null,
   "metadata": {},
   "outputs": [],
   "source": []
  },
  {
   "cell_type": "code",
   "execution_count": null,
   "metadata": {},
   "outputs": [],
   "source": []
  }
 ],
 "metadata": {
  "kernelspec": {
   "display_name": "Python 3",
   "language": "python",
   "name": "python3"
  },
  "language_info": {
   "codemirror_mode": {
    "name": "ipython",
    "version": 3
   },
   "file_extension": ".py",
   "mimetype": "text/x-python",
   "name": "python",
   "nbconvert_exporter": "python",
   "pygments_lexer": "ipython3",
   "version": "3.7.1"
  }
 },
 "nbformat": 4,
 "nbformat_minor": 2
}
