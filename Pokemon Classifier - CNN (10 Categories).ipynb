{
 "cells": [
  {
   "cell_type": "code",
   "execution_count": 18,
   "metadata": {},
   "outputs": [],
   "source": [
    "import tensorflow as tf\n",
    "from tensorflow.keras.models import Sequential\n",
    "from tensorflow.keras.layers import Dense, Dropout, Activation, Flatten, Conv2D, MaxPooling2D\n",
    "from tensorflow.keras.callbacks import TensorBoard\n",
    "import pickle\n",
    "import numpy as np\n",
    "import time"
   ]
  },
  {
   "cell_type": "code",
   "execution_count": 19,
   "metadata": {},
   "outputs": [
    {
     "name": "stdout",
     "output_type": "stream",
     "text": [
      "X_train.shape = (1322, 50, 50, 1)\n",
      "y_train.shape = (1322,)\n",
      "X_validation.shape = (147, 50, 50, 1)\n",
      "y_validation.shape = (147,)\n"
     ]
    }
   ],
   "source": [
    "# load dataset and labels\n",
    "X_train = pickle.load(open('pickle_data/X_train.pickle','rb'))\n",
    "y_train = pickle.load(open('pickle_data/y_train.pickle','rb'))\n",
    "\n",
    "# load validation dataset and labels\n",
    "X_validation = pickle.load(open('pickle_data/X_validation.pickle', 'rb'))\n",
    "y_validation = pickle.load(open('pickle_data/y_validation.pickle', 'rb'))\n",
    "\n",
    "print('X_train.shape =', X_train.shape)\n",
    "print('y_train.shape =', y_train.shape)\n",
    "print('X_validation.shape =', X_validation.shape)\n",
    "print('y_validation.shape =', y_validation.shape)"
   ]
  },
  {
   "cell_type": "code",
   "execution_count": 22,
   "metadata": {},
   "outputs": [],
   "source": [
    "# normalize pixel data\n",
    "X_train = X_train/255.0\n",
    "X_validation = X_validation/255.0"
   ]
  },
  {
   "cell_type": "code",
   "execution_count": 23,
   "metadata": {},
   "outputs": [],
   "source": [
    "# define hyperparameters\n",
    "conv_layer = 2\n",
    "layer_size = 64\n",
    "dense_layer = 0"
   ]
  },
  {
   "cell_type": "code",
   "execution_count": 25,
   "metadata": {
    "scrolled": true
   },
   "outputs": [
    {
     "name": "stdout",
     "output_type": "stream",
     "text": [
      "Train on 1057 samples, validate on 265 samples\n",
      "Epoch 1/20\n",
      "1057/1057 [==============================] - 3s 3ms/sample - loss: 1.7740 - accuracy: 0.2592 - val_loss: 1.5112 - val_accuracy: 0.2906\n",
      "Epoch 2/20\n",
      "1057/1057 [==============================] - 3s 3ms/sample - loss: 1.3870 - accuracy: 0.4229 - val_loss: 1.4338 - val_accuracy: 0.4226\n",
      "Epoch 3/20\n",
      "1057/1057 [==============================] - 3s 3ms/sample - loss: 1.1745 - accuracy: 0.5516 - val_loss: 1.2851 - val_accuracy: 0.4906\n",
      "Epoch 4/20\n",
      "1057/1057 [==============================] - 3s 2ms/sample - loss: 1.0599 - accuracy: 0.6064 - val_loss: 1.8192 - val_accuracy: 0.3660\n",
      "Epoch 5/20\n",
      "1057/1057 [==============================] - 3s 3ms/sample - loss: 0.9890 - accuracy: 0.6386 - val_loss: 1.2645 - val_accuracy: 0.5396\n",
      "Epoch 6/20\n",
      "1057/1057 [==============================] - 3s 2ms/sample - loss: 0.7837 - accuracy: 0.7209 - val_loss: 1.2572 - val_accuracy: 0.5547\n",
      "Epoch 7/20\n",
      "1057/1057 [==============================] - 3s 2ms/sample - loss: 0.6412 - accuracy: 0.7843 - val_loss: 1.4056 - val_accuracy: 0.5019\n",
      "Epoch 8/20\n",
      "1057/1057 [==============================] - 3s 2ms/sample - loss: 0.5328 - accuracy: 0.8250 - val_loss: 1.3861 - val_accuracy: 0.5283\n",
      "Epoch 9/20\n",
      "1057/1057 [==============================] - 3s 2ms/sample - loss: 0.4479 - accuracy: 0.8609 - val_loss: 1.2670 - val_accuracy: 0.5623\n",
      "Epoch 10/20\n",
      "1057/1057 [==============================] - 3s 2ms/sample - loss: 0.3346 - accuracy: 0.9063 - val_loss: 1.4468 - val_accuracy: 0.5472\n",
      "Epoch 11/20\n",
      "1057/1057 [==============================] - 3s 2ms/sample - loss: 0.2438 - accuracy: 0.9442 - val_loss: 1.6051 - val_accuracy: 0.5396\n",
      "Epoch 12/20\n",
      "1057/1057 [==============================] - 3s 2ms/sample - loss: 0.2057 - accuracy: 0.9423 - val_loss: 1.6441 - val_accuracy: 0.5660\n",
      "Epoch 13/20\n",
      "1057/1057 [==============================] - 3s 2ms/sample - loss: 0.1760 - accuracy: 0.9612 - val_loss: 1.7015 - val_accuracy: 0.5547\n",
      "Epoch 14/20\n",
      "1057/1057 [==============================] - 3s 2ms/sample - loss: 0.1374 - accuracy: 0.9726 - val_loss: 1.6892 - val_accuracy: 0.5585\n",
      "Epoch 15/20\n",
      "1057/1057 [==============================] - 3s 2ms/sample - loss: 0.1102 - accuracy: 0.9782 - val_loss: 1.7831 - val_accuracy: 0.5849\n",
      "Epoch 16/20\n",
      "1057/1057 [==============================] - 3s 2ms/sample - loss: 0.0811 - accuracy: 0.9886 - val_loss: 1.9303 - val_accuracy: 0.5811\n",
      "Epoch 17/20\n",
      "1057/1057 [==============================] - 3s 2ms/sample - loss: 0.0838 - accuracy: 0.9858 - val_loss: 1.9237 - val_accuracy: 0.5887\n",
      "Epoch 18/20\n",
      "1057/1057 [==============================] - 3s 2ms/sample - loss: 0.0729 - accuracy: 0.9896 - val_loss: 1.9862 - val_accuracy: 0.5811\n",
      "Epoch 19/20\n",
      "1057/1057 [==============================] - 3s 2ms/sample - loss: 0.0646 - accuracy: 0.9886 - val_loss: 1.9938 - val_accuracy: 0.5736\n",
      "Epoch 20/20\n",
      "1057/1057 [==============================] - 3s 2ms/sample - loss: 0.3151 - accuracy: 0.9328 - val_loss: 1.7389 - val_accuracy: 0.5736\n"
     ]
    },
    {
     "data": {
      "text/plain": [
       "<tensorflow.python.keras.callbacks.History at 0x1417d9358>"
      ]
     },
     "execution_count": 25,
     "metadata": {},
     "output_type": "execute_result"
    }
   ],
   "source": [
    "# name of model to keep track of changing model architectures\n",
    "NAME = '{}-conv-{}-nodes-{}-dense-{}'.format(conv_layer, layer_size, dense_layer, int(time.time()))\n",
    "# create a new log of the model to analyze results\n",
    "tensorboard = TensorBoard(log_dir='logs/{}'.format(NAME))\n",
    "\n",
    "# define model\n",
    "model = Sequential()\n",
    "\n",
    "# 1st convolution\n",
    "model.add(Conv2D(layer_size, (3,3), input_shape=X.shape[1:]))\n",
    "model.add(Activation('relu'))\n",
    "model.add(MaxPooling2D(pool_size=(2,2)))\n",
    "\n",
    "# add additional conv layers\n",
    "for _ in range(conv_layer-1):\n",
    "    # convolution\n",
    "    model.add(Conv2D(layer_size, (3,3)))\n",
    "    model.add(Activation('relu'))\n",
    "    # Max-Pool to reduce tensor size while retaining distict features\n",
    "    model.add(MaxPooling2D(pool_size=(2,2)))\n",
    "\n",
    "# flatten model for fully connected layers\n",
    "model.add(Flatten())\n",
    "\n",
    "# add dense layers\n",
    "for _ in range(dense_layer):\n",
    "    # fully-connected\n",
    "    model.add(Dense(layer_size))\n",
    "    model.add(Activation('relu'))\n",
    "\n",
    "# final fully-connected layer (151 matches number of Pokemon categories)\n",
    "model.add(Dense(151))\n",
    "model.add(Activation('softmax'))\n",
    "\n",
    "model.compile(loss='sparse_categorical_crossentropy',\n",
    "              optimizer='adam',\n",
    "              metrics=['accuracy'])\n",
    "\n",
    "model.fit(X_train, y_train, batch_size=16, epochs=20, validation_split=0.2, callbacks=[tensorboard])\n"
   ]
  },
  {
   "cell_type": "code",
   "execution_count": 26,
   "metadata": {},
   "outputs": [
    {
     "name": "stdout",
     "output_type": "stream",
     "text": [
      "accuracy: 61.90%\n"
     ]
    }
   ],
   "source": [
    "# evaluate the model\n",
    "scores = model.evaluate(X_validation, y_validation, verbose=0)\n",
    "print(\"%s: %.2f%%\" % (model.metrics_names[1], scores[1]*100))"
   ]
  },
  {
   "cell_type": "code",
   "execution_count": 27,
   "metadata": {},
   "outputs": [
    {
     "name": "stdout",
     "output_type": "stream",
     "text": [
      "WARNING:tensorflow:From /Library/Frameworks/Python.framework/Versions/3.7/lib/python3.7/site-packages/tensorflow_core/python/ops/resource_variable_ops.py:1781: calling BaseResourceVariable.__init__ (from tensorflow.python.ops.resource_variable_ops) with constraint is deprecated and will be removed in a future version.\n",
      "Instructions for updating:\n",
      "If using Keras pass *_constraint arguments to layers.\n",
      "INFO:tensorflow:Assets written to: models/2-conv-64-nodes-0-dense-1573172865/assets\n"
     ]
    }
   ],
   "source": [
    "# save the model\n",
    "model.save('models/' + NAME)"
   ]
  },
  {
   "cell_type": "code",
   "execution_count": null,
   "metadata": {},
   "outputs": [],
   "source": []
  }
 ],
 "metadata": {
  "kernelspec": {
   "display_name": "Python 3",
   "language": "python",
   "name": "python3"
  },
  "language_info": {
   "codemirror_mode": {
    "name": "ipython",
    "version": 3
   },
   "file_extension": ".py",
   "mimetype": "text/x-python",
   "name": "python",
   "nbconvert_exporter": "python",
   "pygments_lexer": "ipython3",
   "version": "3.7.2"
  }
 },
 "nbformat": 4,
 "nbformat_minor": 2
}
