{
 "cells": [
  {
   "cell_type": "code",
   "execution_count": 1,
   "metadata": {},
   "outputs": [
    {
     "name": "stdout",
     "output_type": "stream",
     "text": [
      "X.shape = (661, 50, 50, 1)\n",
      "y.shape = (661,)\n"
     ]
    }
   ],
   "source": [
    "import tensorflow as tf\n",
    "from tensorflow.keras.models import Sequential\n",
    "from tensorflow.keras.layers import Dense, Dropout, Activation, Flatten, Conv2D, MaxPooling2D\n",
    "from tensorflow.keras.callbacks import TensorBoard\n",
    "import pickle\n",
    "import numpy as np\n",
    "import time\n",
    "\n",
    "# load dataset and labels\n",
    "X = pickle.load(open('pickle_data/X_10_pokemon.pickle','rb'))\n",
    "y = pickle.load(open('pickle_data/y_10_pokemon.pickle','rb'))\n",
    "\n",
    "#print(X)\n",
    "print('X.shape =', X.shape)\n",
    "print('y.shape =', y.shape)\n",
    "\n",
    "# normalize pixel data\n",
    "X = X/255.0"
   ]
  },
  {
   "cell_type": "code",
   "execution_count": 2,
   "metadata": {},
   "outputs": [],
   "source": [
    "# define hyperparameters\n",
    "conv_layer = 2\n",
    "layer_size = 64\n",
    "dense_layer = 0"
   ]
  },
  {
   "cell_type": "code",
   "execution_count": 3,
   "metadata": {
    "scrolled": true
   },
   "outputs": [
    {
     "name": "stdout",
     "output_type": "stream",
     "text": [
      "WARNING:tensorflow:From /anaconda3/lib/python3.7/site-packages/tensorflow/python/ops/resource_variable_ops.py:435: colocate_with (from tensorflow.python.framework.ops) is deprecated and will be removed in a future version.\n",
      "Instructions for updating:\n",
      "Colocations handled automatically by placer.\n",
      "Train on 528 samples, validate on 133 samples\n",
      "Epoch 1/20\n",
      "528/528 [==============================] - 2s 3ms/sample - loss: 2.6494 - acc: 0.1383 - val_loss: 2.3459 - val_acc: 0.1654\n",
      "Epoch 2/20\n",
      "528/528 [==============================] - 2s 3ms/sample - loss: 2.1976 - acc: 0.2178 - val_loss: 2.1808 - val_acc: 0.1880\n",
      "Epoch 3/20\n",
      "528/528 [==============================] - 2s 3ms/sample - loss: 1.9896 - acc: 0.3106 - val_loss: 1.9939 - val_acc: 0.3308\n",
      "Epoch 4/20\n",
      "528/528 [==============================] - 2s 3ms/sample - loss: 1.5786 - acc: 0.5000 - val_loss: 1.9322 - val_acc: 0.3534\n",
      "Epoch 5/20\n",
      "528/528 [==============================] - 2s 3ms/sample - loss: 1.3589 - acc: 0.5909 - val_loss: 1.9930 - val_acc: 0.3609\n",
      "Epoch 6/20\n",
      "528/528 [==============================] - 2s 3ms/sample - loss: 1.1198 - acc: 0.6326 - val_loss: 1.9069 - val_acc: 0.3910\n",
      "Epoch 7/20\n",
      "528/528 [==============================] - 2s 3ms/sample - loss: 0.8736 - acc: 0.7538 - val_loss: 2.1243 - val_acc: 0.3985\n",
      "Epoch 8/20\n",
      "528/528 [==============================] - 2s 3ms/sample - loss: 0.7576 - acc: 0.7822 - val_loss: 2.1060 - val_acc: 0.3985\n",
      "Epoch 9/20\n",
      "528/528 [==============================] - 2s 3ms/sample - loss: 0.6000 - acc: 0.8333 - val_loss: 2.4231 - val_acc: 0.3759\n",
      "Epoch 10/20\n",
      "528/528 [==============================] - 2s 3ms/sample - loss: 0.4634 - acc: 0.8655 - val_loss: 2.4268 - val_acc: 0.4361\n",
      "Epoch 11/20\n",
      "528/528 [==============================] - 2s 3ms/sample - loss: 0.3450 - acc: 0.9129 - val_loss: 2.4824 - val_acc: 0.4211\n",
      "Epoch 12/20\n",
      "528/528 [==============================] - 2s 3ms/sample - loss: 0.2352 - acc: 0.9602 - val_loss: 2.5455 - val_acc: 0.4060\n",
      "Epoch 13/20\n",
      "528/528 [==============================] - 2s 3ms/sample - loss: 0.1819 - acc: 0.9697 - val_loss: 3.1522 - val_acc: 0.4060\n",
      "Epoch 14/20\n",
      "528/528 [==============================] - 1s 3ms/sample - loss: 0.1440 - acc: 0.9792 - val_loss: 3.1846 - val_acc: 0.3684\n",
      "Epoch 15/20\n",
      "528/528 [==============================] - 2s 3ms/sample - loss: 0.1085 - acc: 0.9905 - val_loss: 3.3359 - val_acc: 0.3835\n",
      "Epoch 16/20\n",
      "528/528 [==============================] - 2s 3ms/sample - loss: 0.0959 - acc: 0.9867 - val_loss: 2.9796 - val_acc: 0.4211\n",
      "Epoch 17/20\n",
      "528/528 [==============================] - 2s 3ms/sample - loss: 0.0723 - acc: 0.9962 - val_loss: 3.1260 - val_acc: 0.4135\n",
      "Epoch 18/20\n",
      "528/528 [==============================] - 2s 3ms/sample - loss: 0.0670 - acc: 0.9905 - val_loss: 3.7987 - val_acc: 0.3759\n",
      "Epoch 19/20\n",
      "528/528 [==============================] - 1s 3ms/sample - loss: 0.0568 - acc: 0.9905 - val_loss: 3.3934 - val_acc: 0.3759\n",
      "Epoch 20/20\n",
      "528/528 [==============================] - 2s 3ms/sample - loss: 0.0739 - acc: 0.9905 - val_loss: 3.4981 - val_acc: 0.3910\n"
     ]
    },
    {
     "data": {
      "text/plain": [
       "<tensorflow.python.keras.callbacks.History at 0xb27fb0978>"
      ]
     },
     "execution_count": 3,
     "metadata": {},
     "output_type": "execute_result"
    }
   ],
   "source": [
    "# name of model to keep track of changing model architectures\n",
    "NAME = '{}-conv-{}-nodes-{}-dense-{}'.format(conv_layer, layer_size, dense_layer, int(time.time()))\n",
    "# create a new log of the model to analyze results\n",
    "tensorboard = TensorBoard(log_dir='logs/{}'.format(NAME))\n",
    "\n",
    "# define model\n",
    "model = Sequential()\n",
    "\n",
    "# 1st convolution\n",
    "model.add(Conv2D(layer_size, (3,3), input_shape=X.shape[1:]))\n",
    "model.add(Activation('relu'))\n",
    "model.add(MaxPooling2D(pool_size=(2,2)))\n",
    "\n",
    "# add additional conv layers\n",
    "for _ in range(conv_layer-1):\n",
    "    # convolution\n",
    "    model.add(Conv2D(layer_size, (3,3)))\n",
    "    model.add(Activation('relu'))\n",
    "    # Max-Pool to reduce tensor size while retaining distict features\n",
    "    model.add(MaxPooling2D(pool_size=(2,2)))\n",
    "\n",
    "# flatten model for fully connected layers\n",
    "model.add(Flatten())\n",
    "\n",
    "# add dense layers\n",
    "for _ in range(dense_layer):\n",
    "    # fully-connected\n",
    "    model.add(Dense(layer_size))\n",
    "    model.add(Activation('relu'))\n",
    "\n",
    "# final fully-connected layer (151 matches number of Pokemon categories)\n",
    "model.add(Dense(151))\n",
    "model.add(Activation('softmax'))\n",
    "\n",
    "model.compile(loss='sparse_categorical_crossentropy',\n",
    "              optimizer='adam',\n",
    "              metrics=['accuracy'])\n",
    "\n",
    "model.fit(X, y, batch_size=16, epochs=20, validation_split=0.2, callbacks=[tensorboard])\n"
   ]
  },
  {
   "cell_type": "code",
   "execution_count": 4,
   "metadata": {},
   "outputs": [
    {
     "name": "stdout",
     "output_type": "stream",
     "text": [
      "acc: 87.14%\n"
     ]
    }
   ],
   "source": [
    "# evaluate the model\n",
    "scores = model.evaluate(X, y, verbose=0)\n",
    "print(\"%s: %.2f%%\" % (model.metrics_names[1], scores[1]*100))"
   ]
  },
  {
   "cell_type": "code",
   "execution_count": 5,
   "metadata": {},
   "outputs": [],
   "source": [
    "# save the model\n",
    "model.save('models/' + NAME)"
   ]
  },
  {
   "cell_type": "code",
   "execution_count": null,
   "metadata": {},
   "outputs": [],
   "source": []
  }
 ],
 "metadata": {
  "kernelspec": {
   "display_name": "Python 3",
   "language": "python",
   "name": "python3"
  },
  "language_info": {
   "codemirror_mode": {
    "name": "ipython",
    "version": 3
   },
   "file_extension": ".py",
   "mimetype": "text/x-python",
   "name": "python",
   "nbconvert_exporter": "python",
   "pygments_lexer": "ipython3",
   "version": "3.7.1"
  }
 },
 "nbformat": 4,
 "nbformat_minor": 2
}
